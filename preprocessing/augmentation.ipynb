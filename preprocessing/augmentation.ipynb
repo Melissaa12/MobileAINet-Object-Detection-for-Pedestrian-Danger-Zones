{
  "nbformat": 4,
  "nbformat_minor": 0,
  "metadata": {
    "accelerator": "GPU",
    "colab": {
      "name": "YOLOv5_augmentation.ipynb",
      "provenance": [],
      "collapsed_sections": []
    },
    "kernelspec": {
      "display_name": "Python 3",
      "name": "python3"
    }
  },
  "cells": [
    {
      "cell_type": "markdown",
      "metadata": {
        "id": "7mGmQbAO5pQb"
      },
      "source": [
        "# Setup\n",
        "\n",
        "Clone repo, install dependencies and check PyTorch and GPU."
      ]
    },
    {
      "cell_type": "code",
      "metadata": {
        "id": "wbvMlHd_QwMG"
      },
      "source": [
        "%pip install -qr requirements.txt  # install dependencies\n",
        "\n",
        "import torch\n",
        "from IPython.display import Image, clear_output  # to display images\n",
        "\n",
        "clear_output()\n",
        "print(f\"Setup complete. Using torch {torch.__version__} ({torch.cuda.get_device_properties(0).name if torch.cuda.is_available() else 'CPU'})\")"
      ],
      "execution_count": null,
      "outputs": []
    },
    {
      "cell_type": "code",
      "metadata": {
        "id": "emrJJlq9dn1l"
      },
      "source": [
        "from google.colab import drive\n",
        "drive.mount('/content/gdrive/', force_remount=True)"
      ],
      "execution_count": null,
      "outputs": []
    },
    {
      "cell_type": "code",
      "metadata": {
        "id": "tGMrw2xmd0iX"
      },
      "source": [
        "# !cp -r /content/yolov5 /content/gdrive/MyDrive/\n",
        "%cd /content/gdrive/MyDrive/yolov5-2"
      ],
      "execution_count": null,
      "outputs": []
    },
    {
      "cell_type": "markdown",
      "metadata": {
        "id": "7JZlVCXoSUVT"
      },
      "source": [
        "#Augmentation"
      ]
    },
    {
      "cell_type": "code",
      "metadata": {
        "id": "ieV_E_vz7VyP"
      },
      "source": [
        "%cd datasets_mix_train"
      ],
      "execution_count": null,
      "outputs": []
    },
    {
      "cell_type": "code",
      "metadata": {
        "id": "OFDyqnJ8cqWY"
      },
      "source": [
        "import warnings\n",
        "warnings.filterwarnings('ignore')\n",
        "import numpy as np\n",
        "import skimage.io as io\n",
        "from skimage.transform import rotate, AffineTransform, warp\n",
        "from skimage.util import random_noise\n",
        "from skimage.filters import gaussian\n",
        "import matplotlib.pyplot as plt\n",
        "% matplotlib inline\n",
        "import glob\n",
        "import cv2 as cv2"
      ],
      "execution_count": null,
      "outputs": []
    },
    {
      "cell_type": "code",
      "metadata": {
        "id": "mhVXy5nKSgIi"
      },
      "source": [
        "# reading the image using its path\n",
        "for file in glob.glob('./*.jpg'):\n",
        "  image = io.imread(file)\n",
        "  # shape of the image\n",
        "  # print(image.shape)\n",
        "  print(file)\n",
        "\n",
        "  # displaying the image\n",
        "  # io.imshow(image)\n",
        "  plt.imshow(image)\n",
        "  plt.show()"
      ],
      "execution_count": null,
      "outputs": []
    },
    {
      "cell_type": "code",
      "metadata": {
        "id": "sXCFRTSXbrJz"
      },
      "source": [
        "#noising\n",
        "\n",
        "for file in glob.glob('./*.jpg'):\n",
        "  if (\"noising\" not in file and \"blurring\" not in file and \"rotate\" not in file):\n",
        "    image = io.imread(file)\n",
        "    print(file)\n",
        "\n",
        "    #standard deviation for noise to be added in the image\n",
        "    sigma=0.255\n",
        "    #add random noise to the image\n",
        "    noisyRandom = random_noise(image,var=sigma**2)\n",
        "\n",
        "    # displaying the image\n",
        "    plt.imshow(noisyRandom)\n",
        "    plt.show()\n",
        "\n",
        "    filename = file.replace(\".jpg\", \"_noising.jpg\")\n",
        "    print(filename)\n",
        "    plt.imsave(filename, noisyRandom)"
      ],
      "execution_count": null,
      "outputs": []
    },
    {
      "cell_type": "code",
      "metadata": {
        "id": "0V60qb0Lr4tM"
      },
      "source": [
        "import shutil\n",
        "\n",
        "for file in glob.glob('./*.txt'):\n",
        "  if (\"noising\" not in file and \"blurring\" not in file and \"rotate\" not in file):\n",
        "    dst_dir = file.replace(\".txt\", \"_noising.txt\")\n",
        "    print(dst_dir)\n",
        "    shutil.copy(file, dst_dir)"
      ],
      "execution_count": null,
      "outputs": []
    },
    {
      "cell_type": "code",
      "metadata": {
        "id": "2c1IF0ZxdOpK"
      },
      "source": [
        "#blur the image\n",
        "\n",
        "for file in glob.glob('./*.jpg'):\n",
        "  if (\"noising\" not in file and \"blurring\" not in file and \"rotate\" not in file):\n",
        "    image = io.imread(file)\n",
        "    print(file)\n",
        "\n",
        "    blurred = gaussian(image,sigma=1,multichannel=True)\n",
        "\n",
        "    # displaying the image\n",
        "    plt.imshow(blurred)\n",
        "    plt.show()\n",
        "\n",
        "    filename = file.replace(\".jpg\", \"_blurring.jpg\")\n",
        "    print(filename)\n",
        "    plt.imsave(filename, blurred)"
      ],
      "execution_count": null,
      "outputs": []
    },
    {
      "cell_type": "code",
      "metadata": {
        "id": "yafkrtHjsshF"
      },
      "source": [
        "import shutil\n",
        "\n",
        "for file in glob.glob('./*.txt'):\n",
        "  if (\"noising\" not in file and \"blurring\" not in file and \"rotate\" not in file):\n",
        "    dst_dir = file.replace(\".txt\", \"_blurring.txt\")\n",
        "    print(dst_dir)\n",
        "    shutil.copy(file, dst_dir)"
      ],
      "execution_count": null,
      "outputs": []
    },
    {
      "cell_type": "code",
      "metadata": {
        "id": "WHzW06Bn5okU"
      },
      "source": [
        "# Importing Libraries\n",
        "import os\n",
        "import numpy as np\n",
        "import cv2\n",
        "import argparse\n",
        "import time\n",
        "from tqdm import tqdm\n",
        "#convert from Yolo_mark to opencv format\n",
        "def yoloFormattocv(x1, y1, x2, y2, H, W):\n",
        "    bbox_width = x2 * W\n",
        "    bbox_height = y2 * H\n",
        "    center_x = x1 * W\n",
        "    center_y = y1 * H\n",
        "    voc = []\n",
        "    voc.append(center_x - (bbox_width / 2))\n",
        "    voc.append(center_y - (bbox_height / 2))\n",
        "    voc.append(center_x + (bbox_width / 2))\n",
        "    voc.append(center_y + (bbox_height / 2))\n",
        "    return [int(v) for v in voc]\n",
        "\n",
        "# Convert from opencv format to yolo format\n",
        "# H,W is the image height and width\n",
        "def cvFormattoYolo(corner, H, W):\n",
        "    bbox_W = corner[3] - corner[1]\n",
        "    bbox_H = corner[4] - corner[2]\n",
        "    center_bbox_x = (corner[1] + corner[3]) / 2\n",
        "    center_bbox_y = (corner[2] + corner[4]) / 2\n",
        "    return corner[0], round(center_bbox_x / W, 6), round(center_bbox_y / H, 6), round(bbox_W / W, 6), round(bbox_H / H, 6)\n",
        "\n",
        "class yoloRotatebbox:\n",
        "    def __init__(self, filename, image_ext, angle):\n",
        "        # assert os.path.isfile(filename + image_ext)\n",
        "        # assert os.path.isfile(filename + '.txt')\n",
        "        \n",
        "        self.filename = filename\n",
        "        self.image_ext = image_ext\n",
        "        self.angle = angle\n",
        "        \n",
        "        # Read image using cv2\n",
        "        self.image = cv2.imread(self.filename + self.image_ext, 1)\n",
        "        \n",
        "        rotation_angle = self.angle * np.pi / 180\n",
        "        self.rot_matrix = np.array([[np.cos(rotation_angle), -np.sin(rotation_angle)], [np.sin(rotation_angle), np.cos(rotation_angle)]])\n",
        "\n",
        "    def rotateYolobbox(self):\n",
        "        new_height, new_width = self.rotate_image().shape[:2]\n",
        "        if (self.filename != None):\n",
        "          f = open(self.filename + '.txt', 'r')\n",
        "          f1 = f.readlines()\n",
        "          new_bbox = []\n",
        "          H, W = self.image.shape[:2]\n",
        "          for x in f1:\n",
        "              bbox = x.strip('\\n').split(' ')\n",
        "              if len(bbox) > 1:\n",
        "                  (center_x, center_y, bbox_width, bbox_height) = yoloFormattocv(float(bbox[1]), float(bbox[2]), float(bbox[3]), float(bbox[4]), H, W)\n",
        "                  upper_left_corner_shift = (center_x - W / 2, -H / 2 + center_y)\n",
        "                  upper_right_corner_shift = (bbox_width - W / 2, -H / 2 + center_y)\n",
        "                  lower_left_corner_shift = (center_x - W / 2, -H / 2 + bbox_height)\n",
        "                  lower_right_corner_shift = (bbox_width - W / 2, -H / 2 + bbox_height)\n",
        "                  new_lower_right_corner = [-1, -1]\n",
        "                  new_upper_left_corner = []\n",
        "                  for i in (upper_left_corner_shift, upper_right_corner_shift, lower_left_corner_shift,lower_right_corner_shift):\n",
        "                      new_coords = np.matmul(self.rot_matrix, np.array((i[0], -i[1])))\n",
        "                      x_prime, y_prime = new_width / 2 + new_coords[0], new_height / 2 - new_coords[1]\n",
        "                      if new_lower_right_corner[0] < x_prime:\n",
        "                          new_lower_right_corner[0] = x_prime\n",
        "                      if new_lower_right_corner[1] < y_prime:\n",
        "                          new_lower_right_corner[1] = y_prime\n",
        "                      if len(new_upper_left_corner) > 0:\n",
        "                          if new_upper_left_corner[0] > x_prime:\n",
        "                              new_upper_left_corner[0] = x_prime\n",
        "                          if new_upper_left_corner[1] > y_prime:\n",
        "                              new_upper_left_corner[1] = y_prime\n",
        "                      else:\n",
        "                          new_upper_left_corner.append(x_prime)\n",
        "                          new_upper_left_corner.append(y_prime)\n",
        "                  #             print(x_prime, y_prime)\n",
        "                  new_bbox.append([bbox[0], new_upper_left_corner[0], new_upper_left_corner[1], new_lower_right_corner[0], new_lower_right_corner[1]])\n",
        "        return new_bbox\n",
        "\n",
        "    def rotate_image(self):\n",
        "        \"\"\"\n",
        "        Rotates an image (angle in degrees) and expands image to avoid cropping\n",
        "        \"\"\"\n",
        "        height, width = self.image.shape[:2]  # image shape has 3 dimensions\n",
        "        image_center = (width / 2, height / 2)  # getRotationMatrix2D needs coordinates in reverse order (width, height) compared to shape\n",
        "        rotation_mat = cv2.getRotationMatrix2D(image_center, self.angle, 1.)\n",
        "        # rotation calculates the cos and sin, taking absolutes of those.\n",
        "        abs_cos = abs(rotation_mat[0, 0])\n",
        "        abs_sin = abs(rotation_mat[0, 1])\n",
        "        # find the new width and height bounds\n",
        "        bound_w = int(height * abs_sin + width * abs_cos)\n",
        "        bound_h = int(height * abs_cos + width * abs_sin)\n",
        "        # subtract old image center (bringing image back to origin) and adding the new image center coordinates\n",
        "        rotation_mat[0, 2] += bound_w / 2 - image_center[0]\n",
        "        rotation_mat[1, 2] += bound_h / 2 - image_center[1]\n",
        "        # rotate image with the new bounds and translated rotation matrix\n",
        "        rotated_mat = cv2.warpAffine(self.image, rotation_mat, (bound_w, bound_h))\n",
        "        return rotated_mat\n",
        "\n",
        "if __name__ == \"__main__\":\n",
        "    angels=[45,90,135,180,225,270,315]\n",
        "    for filename in tqdm(os.listdir()):\n",
        "        if (\"noising\" not in filename and \"blurring\" not in filename and \"rotate\" not in filename and \"(1)\" not in filename):\n",
        "          file =filename.split(\".\")\n",
        "          if(file[-1]==\"jpg\"):\n",
        "              image_name=file[0]\n",
        "              image_ext=\".\"+file[1]\n",
        "          else:\n",
        "              continue\n",
        "          for angle in angels:\n",
        "              im = yoloRotatebbox(image_name, image_ext, angle)\n",
        "              bbox = im.rotateYolobbox()\n",
        "              image = im.rotate_image()\n",
        "              # to write rotateed image to disk\n",
        "              cv2.imwrite(image_name+'_rotate' + str(angle) + '.jpg', image)\n",
        "              file_name = image_name+'_rotate' + str(angle) + '.txt'\n",
        "              # print(\"For angle \"+str(angle))\n",
        "              print(file_name)\n",
        "              if os.path.exists(file_name):\n",
        "                  os.remove(file_name)\n",
        "              # to write the new rotated bboxes to file\n",
        "              for i in bbox:\n",
        "                  with open(file_name, 'a') as fout:\n",
        "                      fout.writelines(\n",
        "                          ' '.join(map(str, cvFormattoYolo(i, im.rotate_image().shape[0], im.rotate_image().shape[1]))) + '\\n')"
      ],
      "execution_count": null,
      "outputs": []
    }
  ]
}